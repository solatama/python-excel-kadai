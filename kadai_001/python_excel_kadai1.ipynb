{
  "nbformat": 4,
  "nbformat_minor": 0,
  "metadata": {
    "colab": {
      "provenance": []
    },
    "kernelspec": {
      "name": "python3",
      "display_name": "Python 3"
    },
    "language_info": {
      "name": "python"
    }
  },
  "cells": [
    {
      "cell_type": "code",
      "execution_count": null,
      "metadata": {
        "id": "N97YkYwrcVys"
      },
      "outputs": [],
      "source": [
        "import time\n",
        "\n",
        "import openpyxl\n",
        "from openpyxl import load_workbook"
      ]
    },
    {
      "cell_type": "code",
      "source": [
        "#新規ワークブックの作成\n",
        "workbook = openpyxl.Workbook()\n",
        "\n",
        "#アクティブなシートを変数に格納\n",
        "ws = workbook.active\n",
        "\n",
        "#現在の日付\n",
        "now = time.strftime(\"%Y/%m/%d\", time.localtime())\n",
        "\n",
        "#ファイルの日付\n",
        "file_name = time.strftime(\"%Y%m%d\", time.localtime())\n",
        "\n",
        "ws['B2'] = '請求書'\n",
        "ws['B4'] = '株式会社ABC'\n",
        "ws['B5'] = '〒101-0022 東京都千代田区神田練塀町300'\n",
        "ws['B6'] = 'TEL:03-1234-5678 FAX:03-1234-5678'\n",
        "ws['B7'] = '担当者名:鈴木一郎 様'\n",
        "ws['F4'] = \"No.\"\n",
        "ws['F5'] = '日付'\n",
        "ws['G4'] = '0001'\n",
        "ws['G5'] = now\n",
        "\n",
        "header = ['','商品名', '数量', '単価', '金額']\n",
        "ws.append([])\n",
        "ws.append([])\n",
        "ws.append(header)\n",
        "\n",
        "data = [\n",
        "    ['','商品A', 2, 10000, 20000],\n",
        "    ['','商品B', 1, 15000, 15000]\n",
        "]\n",
        "\n",
        "total = 0\n",
        "\n",
        "for row in data:\n",
        "    ws.append(row)\n",
        "    total += row[3]\n",
        "\n",
        "\n",
        "ws['E13'] = '=SUM(E11:E12)'\n",
        "ws['B15'] = '合計'\n",
        "ws['E15'] = '=E13'\n",
        "ws['B16'] = '消費税'\n",
        "ws['E16'] = '=E15*0.1'\n",
        "ws['B17'] = '税込合計'\n",
        "ws['E17'] = '=E15 + E16'\n",
        "ws['B15'] = '税込価格'\n",
        "ws['E17'] = '=SUM(E15:E16)'\n",
        "\n",
        "\n",
        "#ファイルの保存\n",
        "workbook.save(f'請求書_{file_name}.xlsx')"
      ],
      "metadata": {
        "id": "qybjXsWRcYQb"
      },
      "execution_count": null,
      "outputs": []
    },
    {
      "cell_type": "code",
      "source": [],
      "metadata": {
        "id": "hU50f3NEcYS7"
      },
      "execution_count": null,
      "outputs": []
    },
    {
      "cell_type": "code",
      "source": [],
      "metadata": {
        "id": "ECxluGzecYVK"
      },
      "execution_count": null,
      "outputs": []
    },
    {
      "cell_type": "code",
      "source": [],
      "metadata": {
        "id": "puHClBFfcYXP"
      },
      "execution_count": null,
      "outputs": []
    },
    {
      "cell_type": "code",
      "source": [],
      "metadata": {
        "id": "pFmuWn9hcYZW"
      },
      "execution_count": null,
      "outputs": []
    },
    {
      "cell_type": "code",
      "source": [],
      "metadata": {
        "id": "1cDCO9pjcYbW"
      },
      "execution_count": null,
      "outputs": []
    },
    {
      "cell_type": "code",
      "source": [],
      "metadata": {
        "id": "WzOAFs5scYdd"
      },
      "execution_count": null,
      "outputs": []
    },
    {
      "cell_type": "code",
      "source": [],
      "metadata": {
        "id": "QHr8pZpFcYkB"
      },
      "execution_count": null,
      "outputs": []
    },
    {
      "cell_type": "code",
      "source": [],
      "metadata": {
        "id": "0WZF6daTcYmm"
      },
      "execution_count": null,
      "outputs": []
    },
    {
      "cell_type": "code",
      "source": [],
      "metadata": {
        "id": "qmWYXFBmcYo0"
      },
      "execution_count": null,
      "outputs": []
    },
    {
      "cell_type": "code",
      "source": [],
      "metadata": {
        "id": "_IpMoM6ncYq7"
      },
      "execution_count": null,
      "outputs": []
    },
    {
      "cell_type": "code",
      "source": [],
      "metadata": {
        "id": "n2Cm1k64cYvb"
      },
      "execution_count": null,
      "outputs": []
    },
    {
      "cell_type": "code",
      "source": [],
      "metadata": {
        "id": "UxVI_0occYzm"
      },
      "execution_count": null,
      "outputs": []
    },
    {
      "cell_type": "code",
      "source": [],
      "metadata": {
        "id": "wlyZD7m6cY5o"
      },
      "execution_count": null,
      "outputs": []
    },
    {
      "cell_type": "code",
      "source": [],
      "metadata": {
        "id": "z3oo_z33cY9r"
      },
      "execution_count": null,
      "outputs": []
    },
    {
      "cell_type": "code",
      "source": [],
      "metadata": {
        "id": "W3vvCcfccZAY"
      },
      "execution_count": null,
      "outputs": []
    },
    {
      "cell_type": "code",
      "source": [],
      "metadata": {
        "id": "oOzoq_1pcZC1"
      },
      "execution_count": null,
      "outputs": []
    },
    {
      "cell_type": "code",
      "source": [],
      "metadata": {
        "id": "beUXFQDQcZFa"
      },
      "execution_count": null,
      "outputs": []
    }
  ]
}