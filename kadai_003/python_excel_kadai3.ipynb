{
  "nbformat": 4,
  "nbformat_minor": 0,
  "metadata": {
    "colab": {
      "provenance": []
    },
    "kernelspec": {
      "name": "python3",
      "display_name": "Python 3"
    },
    "language_info": {
      "name": "python"
    }
  },
  "cells": [
    {
      "cell_type": "code",
      "execution_count": 25,
      "metadata": {
        "id": "g1OxR9HKNb5-"
      },
      "outputs": [],
      "source": [
        "import pandas as pd\n",
        "import openpyxl\n",
        "from openpyxl.styles import PatternFill"
      ]
    },
    {
      "cell_type": "code",
      "source": [
        "df1 = pd.read_excel('2022_年間売上表.xlsx')\n",
        "df2 = pd.read_excel('2023_年間売上表.xlsx')\n",
        "\n",
        "df = pd.concat([df1, df2])\n",
        "result = df[['商品', '売上年',  '金額（千円）']].groupby(['商品', '売上年'], as_index=False).sum()\n",
        "result.to_excel('売上集計表.xlsx', index=False)\n",
        "\n",
        "workbook = openpyxl.load_workbook('売上集計表.xlsx')\n",
        "ws = workbook.active\n",
        "\n",
        "for row in ws['A1:C1']:\n",
        "    for cell in row:\n",
        "        cell.fill = PatternFill(patternType='solid', fgColor='F2F2F2')\n",
        "workbook.save('売上集計表.xlsx')"
      ],
      "metadata": {
        "id": "talbTN4oTp_8"
      },
      "execution_count": 40,
      "outputs": []
    },
    {
      "cell_type": "code",
      "source": [],
      "metadata": {
        "id": "YN0IF9YKTqEu"
      },
      "execution_count": null,
      "outputs": []
    },
    {
      "cell_type": "code",
      "source": [],
      "metadata": {
        "id": "CG8PKwsATqHE"
      },
      "execution_count": null,
      "outputs": []
    },
    {
      "cell_type": "code",
      "source": [],
      "metadata": {
        "id": "3MdgA85sTqJb"
      },
      "execution_count": null,
      "outputs": []
    },
    {
      "cell_type": "code",
      "source": [],
      "metadata": {
        "id": "x3PBHTL8TqLh"
      },
      "execution_count": null,
      "outputs": []
    },
    {
      "cell_type": "code",
      "source": [],
      "metadata": {
        "id": "d0RAFHHZTqNy"
      },
      "execution_count": null,
      "outputs": []
    },
    {
      "cell_type": "code",
      "source": [],
      "metadata": {
        "id": "jFUubRb1TqP-"
      },
      "execution_count": null,
      "outputs": []
    },
    {
      "cell_type": "code",
      "source": [],
      "metadata": {
        "id": "Ilpxo54cTqSk"
      },
      "execution_count": null,
      "outputs": []
    },
    {
      "cell_type": "code",
      "source": [],
      "metadata": {
        "id": "c9fsMYUDTqU9"
      },
      "execution_count": null,
      "outputs": []
    },
    {
      "cell_type": "code",
      "source": [],
      "metadata": {
        "id": "p2JTEhNPTqXP"
      },
      "execution_count": null,
      "outputs": []
    },
    {
      "cell_type": "code",
      "source": [],
      "metadata": {
        "id": "KruzwY87TqZ0"
      },
      "execution_count": null,
      "outputs": []
    },
    {
      "cell_type": "code",
      "source": [],
      "metadata": {
        "id": "zYSbGDiGTqcK"
      },
      "execution_count": null,
      "outputs": []
    },
    {
      "cell_type": "code",
      "source": [],
      "metadata": {
        "id": "p0hvV08lTqeZ"
      },
      "execution_count": null,
      "outputs": []
    },
    {
      "cell_type": "code",
      "source": [],
      "metadata": {
        "id": "h7PnkPnnTqg5"
      },
      "execution_count": null,
      "outputs": []
    },
    {
      "cell_type": "code",
      "source": [],
      "metadata": {
        "id": "Q377JGOSTqjU"
      },
      "execution_count": null,
      "outputs": []
    },
    {
      "cell_type": "code",
      "source": [],
      "metadata": {
        "id": "2RVcCSO1Tqlr"
      },
      "execution_count": null,
      "outputs": []
    }
  ]
}