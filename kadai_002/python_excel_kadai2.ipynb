{
  "nbformat": 4,
  "nbformat_minor": 0,
  "metadata": {
    "colab": {
      "provenance": []
    },
    "kernelspec": {
      "name": "python3",
      "display_name": "Python 3"
    },
    "language_info": {
      "name": "python"
    }
  },
  "cells": [
    {
      "cell_type": "code",
      "execution_count": 16,
      "metadata": {
        "id": "-ManqAsnoDgg"
      },
      "outputs": [],
      "source": [
        "import pandas as pd\n",
        "\n",
        "#データフレーム作成\n",
        "df = pd.DataFrame({\n",
        "    '日付':['2023-05-17','2023-05-18','2023-05-19','2023-05-20','2023-05-21'],\n",
        "    '社員名':['山田','佐藤','鈴木','田中','高橋'],\n",
        "    '売上':[100, 200, 150, 300, 250],\n",
        "    '部門':['メーカー', '代理店', 'メーカー', '商社', '代理店']\n",
        "})\n",
        "\n",
        "#平均売上\n",
        "df['平均売上'] = df['売上'].mean()\n",
        "\n",
        "#平均\n",
        "ave = df['売上'].mean()\n",
        "\n",
        "#ランク\n",
        "def rank(level):\n",
        "    if level >= ave + 50:\n",
        "        return  'A'\n",
        "    elif level >= ave:\n",
        "        return  'B'\n",
        "    else:\n",
        "        return  'C'\n",
        "\n",
        "df['業績ランク'] = df['売上'].apply(rank)\n",
        "\n",
        "#Excelファイル作成\n",
        "writer = pd.ExcelWriter('業績.xlsx')\n",
        "\n",
        "#書き込み\n",
        "df.to_excel(writer, sheet_name='Sheet1', index=False)\n",
        "\n",
        "#閉じる\n",
        "writer.close()\n"
      ]
    },
    {
      "cell_type": "code",
      "source": [],
      "metadata": {
        "id": "zw6K2JHErgbx"
      },
      "execution_count": null,
      "outputs": []
    },
    {
      "cell_type": "code",
      "source": [],
      "metadata": {
        "id": "fSdtdmVzrgec"
      },
      "execution_count": null,
      "outputs": []
    },
    {
      "cell_type": "code",
      "source": [],
      "metadata": {
        "id": "whyDIPldrggc"
      },
      "execution_count": null,
      "outputs": []
    },
    {
      "cell_type": "code",
      "source": [],
      "metadata": {
        "id": "m6yvw5hvrgiy"
      },
      "execution_count": null,
      "outputs": []
    }
  ]
}